{
 "cells": [
  {
   "cell_type": "code",
   "execution_count": null,
   "metadata": {},
   "outputs": [],
   "source": [
    "import pandas as pd\n",
    "import datetime\n",
    "import numpy as np\n",
    "\n",
    "data = pd.read_csv(r'C:\\Users\\Suman\\Desktop\\TCS.csv')\n",
    "\n",
    "data.drop(data[data['Series'] == 'BL'].index, inplace = True) \n",
    "\n",
    "ind  = data.index[-1]-90\n",
    "\n",
    "for i in range(ind,data.index[-1],1):\n",
    "    max_p = data['Close Price'].max()\n",
    "    min_p = data['Close Price'].min()\n",
    "    mean_p = data['Close Price'].mean()\n",
    "print('Max price for the last 90 Days: ',max_p)\n",
    "print('Min price for the last 90 Days:', min_p)\n",
    "print('Mean price for the last 90 Days: ', mean_p)\n",
    "\n",
    "\n",
    "data['Date'] = pd.to_datetime(data['Date'])\n",
    "\n",
    "data['Month'] = data['Date'].dt.strftime('%B') \n",
    "\n",
    "data['Year'] = pd.DatetimeIndex(data['Date']).year\n",
    "\n",
    "\n",
    "#Pandas default index is int64 and to use groupby or resample we need to change the index\n",
    "data.set_index(data['Date'], inplace = True)\n",
    "\n",
    "\n",
    "group = data.groupby(['Month', 'Year'])\n",
    "\n",
    "\n",
    "VWAP = []\n",
    "\n",
    "for i,j in group:\n",
    "    VWAP = np.sum(data['Close Price']* data['Total Traded Quantity'])/ np.sum(data['Total Traded Quantity'])\n",
    "    print(i, VWAP)    \n",
    "\n",
    "def avg_price():\n",
    "    N = int(input())\n",
    "    mean = np.mean(data['Close Price'].tail(N))    \n",
    "    print(mean)\n",
    "    \n",
    "avg_price() # N =7, 14, 30, 90, 180, 365\n",
    "\n",
    "\n",
    "\n",
    "\n",
    "def percentage():\n",
    "    N = int(input())\n",
    "    difference = data.iloc[-1]['Close Price'] - data.iloc[-N]['Close Price']\n",
    "    if difference < 0:\n",
    "        loss = -(difference/data.iloc[-1]['Close Price'])*100\n",
    "        print(\"Loss: \" + str(loss))\n",
    "    else:\n",
    "        profit = (difference/data.iloc[-1]['Close Price'])*100\n",
    "        print(\"Profit: \" + str(profit))\n",
    "        \n",
    "percentage()  # N =7, 14, 30, 90, 180, 365\n",
    "\n",
    "\n",
    "data['Day_Perc_Change'] = data['Close Price'].pct_change()\n",
    "data = data.dropna()\n",
    "\n",
    "def conditions(s):\n",
    "    if s['Day_Perc_Change'] > -0.5 and s['Day_Perc_Change'] < 0.5 :\n",
    "        return ('Slight or No Change')\n",
    "    elif s['Day_Perc_Change']> 0.5 and s['Day_Perc_Change']<1:\n",
    "        return ('Slight Positive')\n",
    "    elif s['Day_Perc_Change'] >-0.5 and s['Day_Perc_Change']<-1:\n",
    "        return ('Slight Negative')\n",
    "    elif s['Day_Perc_Change'] in range(1,3):\n",
    "        return ('Postive')\n",
    "    elif s['Day_Perc_Change'] in range(-1,-3):\n",
    "        return ('Negative')\n",
    "    elif s['Day_Perc_Change'] in range(3,7):\n",
    "        return ('Among Top Gainers')\n",
    "    elif s['Day_Perc_Change'] in range(-3,-7):\n",
    "        return ('Among Top Losers')\n",
    "    elif s['Day_Perc_Change'] > 7:\n",
    "        return('Bull Run')\n",
    "    else:\n",
    "        return ('Bear Drop')\n",
    "    \n",
    "data['Trend'] =  data.apply(conditions, axis=1)\n",
    "\n",
    "group1 = data.groupby('Trend')\n",
    "\n",
    "for i,j in group1:\n",
    "    trade_mean  = data['Total Traded Quantity'].mean()\n",
    "    print(i, trade_mean)\n",
    "    trade_median = data['Total Traded Quantity'].median()\n",
    "    print(i, trade_median)\n",
    "    \n",
    "    \n",
    "    \n",
    "  \n",
    "    \n",
    "   \n",
    "\n",
    "\n",
    "\n"
   ]
  },
  {
   "cell_type": "code",
   "execution_count": null,
   "metadata": {},
   "outputs": [],
   "source": [
    "group.first()"
   ]
  },
  {
   "cell_type": "code",
   "execution_count": null,
   "metadata": {},
   "outputs": [],
   "source": [
    "len(group)"
   ]
  },
  {
   "cell_type": "code",
   "execution_count": null,
   "metadata": {},
   "outputs": [],
   "source": [
    "data.index[-1]"
   ]
  },
  {
   "cell_type": "code",
   "execution_count": null,
   "metadata": {},
   "outputs": [],
   "source": [
    "data.iloc[-1]['Close Price']"
   ]
  },
  {
   "cell_type": "code",
   "execution_count": null,
   "metadata": {},
   "outputs": [],
   "source": [
    "group1.first()"
   ]
  }
 ],
 "metadata": {
  "kernelspec": {
   "display_name": "Python 3 (ipykernel)",
   "language": "python",
   "name": "python3"
  },
  "language_info": {
   "codemirror_mode": {
    "name": "ipython",
    "version": 3
   },
   "file_extension": ".py",
   "mimetype": "text/x-python",
   "name": "python",
   "nbconvert_exporter": "python",
   "pygments_lexer": "ipython3",
   "version": "3.11.0"
  }
 },
 "nbformat": 4,
 "nbformat_minor": 2
}
